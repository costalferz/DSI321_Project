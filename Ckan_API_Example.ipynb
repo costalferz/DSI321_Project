{
 "cells": [
  {
   "cell_type": "markdown",
   "metadata": {},
   "source": [
    "# Prepare Data"
   ]
  },
  {
   "cell_type": "code",
   "execution_count": 18,
   "metadata": {},
   "outputs": [
    {
     "data": {
      "text/plain": [
       "True"
      ]
     },
     "execution_count": 18,
     "metadata": {},
     "output_type": "execute_result"
    }
   ],
   "source": [
    "import pandas as pd\n",
    "import requests\n",
    "import json, os\n",
    "from datetime import datetime\n",
    "from dotenv import load_dotenv\n",
    "load_dotenv()"
   ]
  },
  {
   "cell_type": "code",
   "execution_count": 19,
   "metadata": {},
   "outputs": [],
   "source": [
    "\n",
    "df_original = pd.read_html(os.getenv(\"WEB_SCRIPY\"), encoding='utf-8')\n",
    "df = df_original[0].iloc[1:, 1:].copy() \n",
    "df.columns = df_original[0].iloc[0, 1:]\n",
    "now = datetime.now().strftime('%Y-%m-%d %H:%M:%S')"
   ]
  },
  {
   "cell_type": "code",
   "execution_count": 20,
   "metadata": {},
   "outputs": [
    {
     "data": {
      "text/html": [
       "<div>\n",
       "<style scoped>\n",
       "    .dataframe tbody tr th:only-of-type {\n",
       "        vertical-align: middle;\n",
       "    }\n",
       "\n",
       "    .dataframe tbody tr th {\n",
       "        vertical-align: top;\n",
       "    }\n",
       "\n",
       "    .dataframe thead th {\n",
       "        text-align: right;\n",
       "    }\n",
       "</style>\n",
       "<table border=\"1\" class=\"dataframe\">\n",
       "  <thead>\n",
       "    <tr style=\"text-align: right;\">\n",
       "      <th></th>\n",
       "      <th>retrived_at</th>\n",
       "      <th>province_id</th>\n",
       "      <th>city</th>\n",
       "      <th>state</th>\n",
       "      <th>country</th>\n",
       "      <th>pollution_aqi</th>\n",
       "      <th>polution_main</th>\n",
       "      <th>weather_tp</th>\n",
       "      <th>weather_pr</th>\n",
       "      <th>weather_hu</th>\n",
       "      <th>weather_ws</th>\n",
       "      <th>weather_wd</th>\n",
       "    </tr>\n",
       "  </thead>\n",
       "  <tbody>\n",
       "    <tr>\n",
       "      <th>1</th>\n",
       "      <td>4/24/2023 19:15:27</td>\n",
       "      <td>TH-10</td>\n",
       "      <td>Phra Nakhon</td>\n",
       "      <td>Bangkok</td>\n",
       "      <td>Thailand</td>\n",
       "      <td>88</td>\n",
       "      <td>p2</td>\n",
       "      <td>31</td>\n",
       "      <td>1007</td>\n",
       "      <td>50</td>\n",
       "      <td>7.13</td>\n",
       "      <td>171</td>\n",
       "    </tr>\n",
       "    <tr>\n",
       "      <th>2</th>\n",
       "      <td>4/24/2023 19:15:58</td>\n",
       "      <td>TH-11</td>\n",
       "      <td>Bang Phli</td>\n",
       "      <td>Samut Prakan</td>\n",
       "      <td>Thailand</td>\n",
       "      <td>68</td>\n",
       "      <td>p2</td>\n",
       "      <td>33</td>\n",
       "      <td>1007</td>\n",
       "      <td>60</td>\n",
       "      <td>6.17</td>\n",
       "      <td>180</td>\n",
       "    </tr>\n",
       "    <tr>\n",
       "      <th>3</th>\n",
       "      <td>4/24/2023 19:16:29</td>\n",
       "      <td>TH-12</td>\n",
       "      <td>Mueang Nonthaburi</td>\n",
       "      <td>Nonthaburi</td>\n",
       "      <td>Thailand</td>\n",
       "      <td>83</td>\n",
       "      <td>p2</td>\n",
       "      <td>31</td>\n",
       "      <td>1008</td>\n",
       "      <td>46</td>\n",
       "      <td>10.29</td>\n",
       "      <td>110</td>\n",
       "    </tr>\n",
       "    <tr>\n",
       "      <th>4</th>\n",
       "      <td>4/24/2023 19:17:00</td>\n",
       "      <td>TH-13</td>\n",
       "      <td>Khlong Luang</td>\n",
       "      <td>Pathum Thani</td>\n",
       "      <td>Thailand</td>\n",
       "      <td>83</td>\n",
       "      <td>p2</td>\n",
       "      <td>32</td>\n",
       "      <td>1008</td>\n",
       "      <td>42</td>\n",
       "      <td>10.29</td>\n",
       "      <td>110</td>\n",
       "    </tr>\n",
       "    <tr>\n",
       "      <th>5</th>\n",
       "      <td>4/24/2023 19:17:31</td>\n",
       "      <td>TH-14</td>\n",
       "      <td>Ayutthaya</td>\n",
       "      <td>Phra Nakhon Si Ayutthaya</td>\n",
       "      <td>Thailand</td>\n",
       "      <td>157</td>\n",
       "      <td>p2</td>\n",
       "      <td>33</td>\n",
       "      <td>1006</td>\n",
       "      <td>37</td>\n",
       "      <td>5.34</td>\n",
       "      <td>130</td>\n",
       "    </tr>\n",
       "    <tr>\n",
       "      <th>...</th>\n",
       "      <td>...</td>\n",
       "      <td>...</td>\n",
       "      <td>...</td>\n",
       "      <td>...</td>\n",
       "      <td>...</td>\n",
       "      <td>...</td>\n",
       "      <td>...</td>\n",
       "      <td>...</td>\n",
       "      <td>...</td>\n",
       "      <td>...</td>\n",
       "      <td>...</td>\n",
       "      <td>...</td>\n",
       "    </tr>\n",
       "    <tr>\n",
       "      <th>62</th>\n",
       "      <td>4/25/2023 0:18:33</td>\n",
       "      <td>TH-16</td>\n",
       "      <td>Ban Mi</td>\n",
       "      <td>Lop Buri</td>\n",
       "      <td>Thailand</td>\n",
       "      <td>87</td>\n",
       "      <td>p2</td>\n",
       "      <td>32</td>\n",
       "      <td>1009</td>\n",
       "      <td>53</td>\n",
       "      <td>3.7</td>\n",
       "      <td>232</td>\n",
       "    </tr>\n",
       "    <tr>\n",
       "      <th>63</th>\n",
       "      <td>4/25/2023 0:19:04</td>\n",
       "      <td>TH-20</td>\n",
       "      <td>Na Kluea</td>\n",
       "      <td>Chon Buri</td>\n",
       "      <td>Thailand</td>\n",
       "      <td>80</td>\n",
       "      <td>p2</td>\n",
       "      <td>28</td>\n",
       "      <td>1009</td>\n",
       "      <td>69</td>\n",
       "      <td>3.24</td>\n",
       "      <td>174</td>\n",
       "    </tr>\n",
       "    <tr>\n",
       "      <th>64</th>\n",
       "      <td>4/25/2023 0:19:34</td>\n",
       "      <td>TH-21</td>\n",
       "      <td>Ban Khai</td>\n",
       "      <td>Rayong</td>\n",
       "      <td>Thailand</td>\n",
       "      <td>46</td>\n",
       "      <td>p2</td>\n",
       "      <td>28</td>\n",
       "      <td>1010</td>\n",
       "      <td>72</td>\n",
       "      <td>2.28</td>\n",
       "      <td>179</td>\n",
       "    </tr>\n",
       "    <tr>\n",
       "      <th>65</th>\n",
       "      <td>4/25/2023 0:20:05</td>\n",
       "      <td>TH-50</td>\n",
       "      <td>Chiang Mai</td>\n",
       "      <td>Chiang Mai</td>\n",
       "      <td>Thailand</td>\n",
       "      <td>114</td>\n",
       "      <td>p2</td>\n",
       "      <td>29</td>\n",
       "      <td>1010</td>\n",
       "      <td>54</td>\n",
       "      <td>1.03</td>\n",
       "      <td>0</td>\n",
       "    </tr>\n",
       "    <tr>\n",
       "      <th>66</th>\n",
       "      <td>4/25/2023 0:20:36</td>\n",
       "      <td>TH-52</td>\n",
       "      <td>Hang Chat</td>\n",
       "      <td>Lampang</td>\n",
       "      <td>Thailand</td>\n",
       "      <td>155</td>\n",
       "      <td>p2</td>\n",
       "      <td>27</td>\n",
       "      <td>1009</td>\n",
       "      <td>46</td>\n",
       "      <td>0.94</td>\n",
       "      <td>236</td>\n",
       "    </tr>\n",
       "  </tbody>\n",
       "</table>\n",
       "<p>66 rows × 12 columns</p>\n",
       "</div>"
      ],
      "text/plain": [
       "0          retrived_at province_id               city   \n",
       "1   4/24/2023 19:15:27       TH-10        Phra Nakhon  \\\n",
       "2   4/24/2023 19:15:58       TH-11          Bang Phli   \n",
       "3   4/24/2023 19:16:29       TH-12  Mueang Nonthaburi   \n",
       "4   4/24/2023 19:17:00       TH-13       Khlong Luang   \n",
       "5   4/24/2023 19:17:31       TH-14          Ayutthaya   \n",
       "..                 ...         ...                ...   \n",
       "62   4/25/2023 0:18:33       TH-16             Ban Mi   \n",
       "63   4/25/2023 0:19:04       TH-20           Na Kluea   \n",
       "64   4/25/2023 0:19:34       TH-21           Ban Khai   \n",
       "65   4/25/2023 0:20:05       TH-50         Chiang Mai   \n",
       "66   4/25/2023 0:20:36       TH-52          Hang Chat   \n",
       "\n",
       "0                      state   country pollution_aqi polution_main weather_tp   \n",
       "1                    Bangkok  Thailand            88            p2         31  \\\n",
       "2               Samut Prakan  Thailand            68            p2         33   \n",
       "3                 Nonthaburi  Thailand            83            p2         31   \n",
       "4               Pathum Thani  Thailand            83            p2         32   \n",
       "5   Phra Nakhon Si Ayutthaya  Thailand           157            p2         33   \n",
       "..                       ...       ...           ...           ...        ...   \n",
       "62                  Lop Buri  Thailand            87            p2         32   \n",
       "63                 Chon Buri  Thailand            80            p2         28   \n",
       "64                    Rayong  Thailand            46            p2         28   \n",
       "65                Chiang Mai  Thailand           114            p2         29   \n",
       "66                   Lampang  Thailand           155            p2         27   \n",
       "\n",
       "0  weather_pr weather_hu weather_ws weather_wd  \n",
       "1        1007         50       7.13        171  \n",
       "2        1007         60       6.17        180  \n",
       "3        1008         46      10.29        110  \n",
       "4        1008         42      10.29        110  \n",
       "5        1006         37       5.34        130  \n",
       "..        ...        ...        ...        ...  \n",
       "62       1009         53        3.7        232  \n",
       "63       1009         69       3.24        174  \n",
       "64       1010         72       2.28        179  \n",
       "65       1010         54       1.03          0  \n",
       "66       1009         46       0.94        236  \n",
       "\n",
       "[66 rows x 12 columns]"
      ]
     },
     "execution_count": 20,
     "metadata": {},
     "output_type": "execute_result"
    }
   ],
   "source": [
    "df"
   ]
  },
  {
   "cell_type": "code",
   "execution_count": 21,
   "metadata": {},
   "outputs": [],
   "source": [
    "df.to_csv(\"./data/\"+f'data-scripy-{now}'+\".csv\",index=False, encoding='utf-8-sig')\n"
   ]
  },
  {
   "cell_type": "markdown",
   "metadata": {},
   "source": [
    "# Upload Data"
   ]
  },
  {
   "cell_type": "markdown",
   "metadata": {},
   "source": [
    "### Function Define"
   ]
  },
  {
   "cell_type": "code",
   "execution_count": 22,
   "metadata": {},
   "outputs": [],
   "source": [
    "## create package\n",
    "def sendMetaToCkan(url_ckan, api_key, ckan_meta):\n",
    "    headers = {\n",
    "        'content-type': 'application/json',\n",
    "        'Authorization': api_key,\n",
    "    }\n",
    "\n",
    "    url = '{}/api/action/package_create'.format(url_ckan)\n",
    "    respond = requests.post(url, data=json.dumps(ckan_meta), headers=headers)\n",
    "    res_text = respond.content.decode('utf-8').replace('\\n','br')\n",
    "    print(res_text)\n",
    "    \n",
    "## Upload File\n",
    "def uploadFileToCkan(url_ckan, api_key, file_meta, path_input):\n",
    "    headers = {'X-CKAN-API-Key': api_key}\n",
    "    url = '{}/api/action/resource_create'.format(url_ckan)\n",
    "    with open(path_input, \"rb\") as f:\n",
    "        form_file = {'upload': f}\n",
    "        respond = requests.post(url, data=file_meta, headers=headers, files=form_file)\n",
    "        res_text = respond.content.decode('utf-8').replace('\\n','br')\n",
    "        print(res_text)\n",
    "        print('<b>File has been uploaded</b>')"
   ]
  },
  {
   "cell_type": "markdown",
   "metadata": {},
   "source": [
    "### Parameter"
   ]
  },
  {
   "cell_type": "code",
   "execution_count": 29,
   "metadata": {},
   "outputs": [],
   "source": [
    "ckan_meta = json.load(open('metadata.json'))\n",
    "\n",
    "url_ckan = os.getenv(\"CKAN_URL\")  # ใส่ ip ของ ckan server ตรงนี้\n",
    "api_key = os.getenv(\"TOKEN_ADMIN\") \n",
    "\n",
    "## for upload file\n",
    "file_meta = {\n",
    "    'package_id': ckan_meta['name'],\n",
    "    'name': \"exsemple-data\",\n",
    "}\n",
    "path_input = \"./data/\"+f'data-scripy-{now}'+\".csv\""
   ]
  },
  {
   "cell_type": "markdown",
   "metadata": {},
   "source": [
    "### Create Dataset"
   ]
  },
  {
   "cell_type": "code",
   "execution_count": 30,
   "metadata": {},
   "outputs": [
    {
     "name": "stdout",
     "output_type": "stream",
     "text": [
      "{\"help\": \"https://ckan.data.storemesh.com/api/3/action/help_show?name=package_create\", \"success\": true, \"result\": {\"license_title\": \"License not specified\", \"maintainer\": \"Kullanut Padtaku\", \"relationships_as_object\": [], \"private\": false, \"maintainer_email\": \"kullanat.pad@dome.tu.ac.th\", \"num_tags\": 3, \"organization\": {\"description\": \"\", \"created\": \"2023-04-24T22:58:05.973039\", \"title\": \"DSI321\", \"name\": \"dsi321\", \"is_organization\": true, \"state\": \"active\", \"image_url\": \"\", \"type\": \"organization\", \"id\": \"a839961e-c141-4094-8a85-7d46b84c10c4\", \"approval_status\": \"approved\"}, \"update_frequency_unit\": \"\\u0e0a\\u0e31\\u0e48\\u0e27\\u0e42\\u0e21\\u0e07\", \"license_id\": \"License not specified\", \"id\": \"ad4461d1-80dc-4e81-adaa-b743593b0fee\", \"metadata_created\": \"2023-04-24T18:11:38.941593\", \"metadata_modified\": \"2023-04-24T18:11:38.941605\", \"author\": null, \"author_email\": null, \"state\": \"active\", \"version\": null, \"update_frequency_interval\": \"6\", \"objective\": [\"\\u0e22\\u0e38\\u0e17\\u0e18\\u0e28\\u0e32\\u0e2a\\u0e15\\u0e23\\u0e4c\\u0e0a\\u0e32\\u0e15\\u0e34\", \"\\u0e41\\u0e1c\\u0e19\\u0e1e\\u0e31\\u0e12\\u0e19\\u0e32\\u0e40\\u0e28\\u0e23\\u0e29\\u0e10\\u0e01\\u0e34\\u0e08\\u0e41\\u0e25\\u0e30\\u0e2a\\u0e31\\u0e07\\u0e04\\u0e21\\u0e41\\u0e2b\\u0e48\\u0e07\\u0e0a\\u0e32\\u0e15\\u0e34\"], \"disaggregate\": [], \"type\": \"dataset\", \"resources\": [], \"num_resources\": 0, \"data_language\": [], \"data_type\": \"\\u0e02\\u0e49\\u0e2d\\u0e21\\u0e39\\u0e25\\u0e2a\\u0e16\\u0e34\\u0e15\\u0e34\", \"tags\": [{\"vocabulary_id\": null, \"state\": \"active\", \"display_name\": \"\\u0e04\\u0e38\\u0e13\\u0e20\\u0e32\\u0e1e\\u0e2d\\u0e32\\u0e01\\u0e32\\u0e28\", \"id\": \"315792e7-cc0c-4506-84ef-eb5d203ebc98\", \"name\": \"\\u0e04\\u0e38\\u0e13\\u0e20\\u0e32\\u0e1e\\u0e2d\\u0e32\\u0e01\\u0e32\\u0e28\"}, {\"vocabulary_id\": null, \"state\": \"active\", \"display_name\": \"\\u0e21\\u0e25\\u0e1e\\u0e34\\u0e29\", \"id\": \"7761f6c3-258c-4a67-a158-071c5fda0316\", \"name\": \"\\u0e21\\u0e25\\u0e1e\\u0e34\\u0e29\"}, {\"vocabulary_id\": null, \"state\": \"active\", \"display_name\": \"\\u0e2d\\u0e32\\u0e01\\u0e32\\u0e28\", \"id\": \"0434fbc3-6544-4475-8d67-13def831dde5\", \"name\": \"\\u0e2d\\u0e32\\u0e01\\u0e32\\u0e28\"}], \"groups\": [], \"creator_user_id\": \"4f584138-deb2-4d55-92c0-7fb1f8b3d0ed\", \"relationships_as_subject\": [], \"data_source\": \"https://docs.google.com/spreadsheets/d/e/2PACX-1vQlEs3FxFPwm-dpvU1YdsfRgsbfT9WdiXJHZm9kJgGTziPnk-y3TWtftbSbxj6Fe_g0NxYgqyVHTVU5/pubhtml?gid=1397577608&amp;single=true&amp;widget=true&amp;headers=false\", \"name\": \"thailandaqi_srg_04\", \"isopen\": false, \"notes\": \"\\u0e02\\u0e49\\u0e2d\\u0e21\\u0e39\\u0e25\\u0e14\\u0e31\\u0e0a\\u0e19\\u0e35\\u0e04\\u0e38\\u0e13\\u0e20\\u0e32\\u0e1e\\u0e2d\\u0e32\\u0e01\\u0e32\\u0e28\\u0e43\\u0e19\\u0e1b\\u0e23\\u0e30\\u0e40\\u0e17\\u0e28\\u0e44\\u0e17\\u0e22\", \"owner_org\": \"a839961e-c141-4094-8a85-7d46b84c10c4\", \"data_format\": [\"CSV\"], \"data_category\": \"\\u0e02\\u0e49\\u0e2d\\u0e21\\u0e39\\u0e25\\u0e2a\\u0e32\\u0e18\\u0e32\\u0e23\\u0e13\\u0e30\", \"geo_coverage\": \"\\u0e1b\\u0e23\\u0e30\\u0e40\\u0e17\\u0e28\", \"title\": \"THAILANDAQI_SRG_04\"}}\n"
     ]
    }
   ],
   "source": [
    "sendMetaToCkan(url_ckan, api_key, ckan_meta)\n",
    "#{\"help\": \"https://ckan.storemesh.com/api/3/action/help_show?name=package_create\", \"success\": false, \"error\": {\"maintainer\": [\"\\u0e04\\u0e48\\u0e32\\u0e17\\u0e35\\u0e48\\u0e02\\u0e32\\u0e14\\u0e2b\\u0e32\\u0e22\"], \"update_frequency_unit\": [\"\\u0e04\\u0e48\\u0e32\\u0e17\\u0e35\\u0e48\\u0e02\\u0e32\\u0e14\\u0e2b\\u0e32\\u0e22\"], \"maintainer_email\": [\"\\u0e04\\u0e48\\u0e32\\u0e17\\u0e35\\u0e48\\u0e02\\u0e32\\u0e14\\u0e2b\\u0e32\\u0e22\"], \"__type\": \"Validation Error\", \"objective\": [\"\\u0e44\\u0e21\\u0e48\\u0e16\\u0e39\\u0e01\\u0e40\\u0e25\\u0e37\\u0e2d\\u0e01\"], \"data_type\": [\"\\u0e04\\u0e48\\u0e32\\u0e17\\u0e35\\u0e48\\u0e02\\u0e32\\u0e14\\u0e2b\\u0e32\\u0e22\"], \"geo_coverage\": [\"\\u0e04\\u0e48\\u0e32\\u0e17\\u0e35\\u0e48\\u0e02\\u0e32\\u0e14\\u0e2b\\u0e32\\u0e22\"], \"license_id\": [\"\\u0e04\\u0e48\\u0e32\\u0e17\\u0e35\\u0e48\\u0e02\\u0e32\\u0e14\\u0e2b\\u0e32\\u0e22\"], \"data_source\": [\"\\u0e04\\u0e48\\u0e32\\u0e17\\u0e35\\u0e48\\u0e02\\u0e32\\u0e14\\u0e2b\\u0e32\\u0e22\"], \"notes\": [\"\\u0e04\\u0e48\\u0e32\\u0e17\\u0e35\\u0e48\\u0e02\\u0e32\\u0e14\\u0e2b\\u0e32\\u0e22\"], \"owner_org\": [\"An organization must be provided\", \"\\u0e04\\u0e48\\u0e32\\u0e17\\u0e35\\u0e48\\u0e02\\u0e32\\u0e14\\u0e2b\\u0e32\\u0e22\"], \"data_format\": [\"\\u0e44\\u0e21\\u0e48\\u0e16\\u0e39\\u0e01\\u0e40\\u0e25\\u0e37\\u0e2d\\u0e01\"], \"data_category\": [\"\\u0e04\\u0e48\\u0e32\\u0e17\\u0e35\\u0e48\\u0e02\\u0e32\\u0e14\\u0e2b\\u0e32\\u0e22\"]}}"
   ]
  },
  {
   "cell_type": "markdown",
   "metadata": {},
   "source": [
    "### Upload File"
   ]
  },
  {
   "cell_type": "code",
   "execution_count": 17,
   "metadata": {},
   "outputs": [
    {
     "name": "stdout",
     "output_type": "stream",
     "text": [
      "{\"help\": \"https://ckan.storemesh.com/api/3/action/help_show?name=resource_create\", \"success\": false, \"error\": {\"message\": \"\\u0e44\\u0e21\\u0e48\\u0e1e\\u0e1a\", \"__type\": \"Not Found Error\"}}\n",
      "<b>File has been uploaded</b>\n"
     ]
    }
   ],
   "source": [
    "uploadFileToCkan(url_ckan, api_key, file_meta, path_input)"
   ]
  },
  {
   "cell_type": "code",
   "execution_count": 15,
   "metadata": {},
   "outputs": [
    {
     "name": "stdout",
     "output_type": "stream",
     "text": [
      "Collecting scikit-learn\n",
      "  Downloading scikit_learn-1.2.2-cp310-cp310-macosx_10_9_x86_64.whl (9.1 MB)\n",
      "\u001b[2K     \u001b[90m━━━━━━━━━━━━━━━━━━━━━━━━━━━━━━━━━━━━━━━━\u001b[0m \u001b[32m9.1/9.1 MB\u001b[0m \u001b[31m1.9 MB/s\u001b[0m eta \u001b[36m0:00:00\u001b[0m00:01\u001b[0m00:01\u001b[0m\n",
      "\u001b[?25hCollecting joblib>=1.1.1\n",
      "  Downloading joblib-1.2.0-py3-none-any.whl (297 kB)\n",
      "\u001b[2K     \u001b[90m━━━━━━━━━━━━━━━━━━━━━━━━━━━━━━━━━━━━━━━\u001b[0m \u001b[32m298.0/298.0 kB\u001b[0m \u001b[31m1.8 MB/s\u001b[0m eta \u001b[36m0:00:00\u001b[0m00:01\u001b[0m00:01\u001b[0m\n",
      "\u001b[?25hCollecting numpy>=1.17.3\n",
      "  Downloading numpy-1.24.2-cp310-cp310-macosx_10_9_x86_64.whl (19.8 MB)\n",
      "\u001b[2K     \u001b[90m━━━━━━━━━━━━━━━━━━━━━━━━━━━━━━━━━━━━━━━━\u001b[0m \u001b[32m19.8/19.8 MB\u001b[0m \u001b[31m1.7 MB/s\u001b[0m eta \u001b[36m0:00:00\u001b[0m00:01\u001b[0m00:01\u001b[0m\n",
      "\u001b[?25hCollecting threadpoolctl>=2.0.0\n",
      "  Downloading threadpoolctl-3.1.0-py3-none-any.whl (14 kB)\n",
      "Collecting scipy>=1.3.2\n",
      "  Downloading scipy-1.10.1-cp310-cp310-macosx_10_9_x86_64.whl (35.1 MB)\n",
      "\u001b[2K     \u001b[90m━━━━━━━━━━━━━━━━━━━━━━━━━━━━━━━━━━━━━━━━\u001b[0m \u001b[32m35.1/35.1 MB\u001b[0m \u001b[31m1.8 MB/s\u001b[0m eta \u001b[36m0:00:00\u001b[0m00:01\u001b[0m00:01\u001b[0m\n",
      "\u001b[?25hInstalling collected packages: threadpoolctl, numpy, joblib, scipy, scikit-learn\n",
      "^C\n",
      "\u001b[31mERROR: Operation cancelled by user\u001b[0m\u001b[31m\n",
      "\u001b[0m"
     ]
    }
   ],
   "source": [
    "! pip install scikit-learn"
   ]
  },
  {
   "cell_type": "markdown",
   "metadata": {},
   "source": [
    "## Linear Regression"
   ]
  },
  {
   "cell_type": "code",
   "execution_count": null,
   "metadata": {},
   "outputs": [
    {
     "data": {
      "text/html": [
       "<div>\n",
       "<style scoped>\n",
       "    .dataframe tbody tr th:only-of-type {\n",
       "        vertical-align: middle;\n",
       "    }\n",
       "\n",
       "    .dataframe tbody tr th {\n",
       "        vertical-align: top;\n",
       "    }\n",
       "\n",
       "    .dataframe thead th {\n",
       "        text-align: right;\n",
       "    }\n",
       "</style>\n",
       "<table border=\"1\" class=\"dataframe\">\n",
       "  <thead>\n",
       "    <tr style=\"text-align: right;\">\n",
       "      <th></th>\n",
       "      <th>year</th>\n",
       "      <th>gdp</th>\n",
       "    </tr>\n",
       "  </thead>\n",
       "  <tbody>\n",
       "    <tr>\n",
       "      <th>0</th>\n",
       "      <td>2009</td>\n",
       "      <td>9658668</td>\n",
       "    </tr>\n",
       "    <tr>\n",
       "      <th>1</th>\n",
       "      <td>2010</td>\n",
       "      <td>10808139</td>\n",
       "    </tr>\n",
       "    <tr>\n",
       "      <th>2</th>\n",
       "      <td>2011</td>\n",
       "      <td>11306909</td>\n",
       "    </tr>\n",
       "    <tr>\n",
       "      <th>3</th>\n",
       "      <td>2012</td>\n",
       "      <td>12357343</td>\n",
       "    </tr>\n",
       "    <tr>\n",
       "      <th>4</th>\n",
       "      <td>2013</td>\n",
       "      <td>12915155</td>\n",
       "    </tr>\n",
       "    <tr>\n",
       "      <th>5</th>\n",
       "      <td>2014</td>\n",
       "      <td>13230301</td>\n",
       "    </tr>\n",
       "    <tr>\n",
       "      <th>6</th>\n",
       "      <td>2015</td>\n",
       "      <td>13743459</td>\n",
       "    </tr>\n",
       "    <tr>\n",
       "      <th>7</th>\n",
       "      <td>2016</td>\n",
       "      <td>14592594</td>\n",
       "    </tr>\n",
       "    <tr>\n",
       "      <th>8</th>\n",
       "      <td>2017</td>\n",
       "      <td>15486552</td>\n",
       "    </tr>\n",
       "    <tr>\n",
       "      <th>9</th>\n",
       "      <td>2018</td>\n",
       "      <td>16365575</td>\n",
       "    </tr>\n",
       "  </tbody>\n",
       "</table>\n",
       "</div>"
      ],
      "text/plain": [
       "   year       gdp\n",
       "0  2009   9658668\n",
       "1  2010  10808139\n",
       "2  2011  11306909\n",
       "3  2012  12357343\n",
       "4  2013  12915155\n",
       "5  2014  13230301\n",
       "6  2015  13743459\n",
       "7  2016  14592594\n",
       "8  2017  15486552\n",
       "9  2018  16365575"
      ]
     },
     "execution_count": 136,
     "metadata": {},
     "output_type": "execute_result"
    }
   ],
   "source": [
    "df = df_original.groupby('year')['gdp'].sum().reset_index()\n",
    "df"
   ]
  },
  {
   "cell_type": "code",
   "execution_count": 137,
   "metadata": {},
   "outputs": [
    {
     "data": {
      "text/plain": [
       "LinearRegression()"
      ]
     },
     "execution_count": 137,
     "metadata": {},
     "output_type": "execute_result"
    }
   ],
   "source": [
    "X = df['year'].values.reshape((10,1))\n",
    "y = df['gdp'].values.reshape((10,1))\n",
    "\n",
    "\n",
    "# Train model\n",
    "model = LinearRegression()\n",
    "model.fit(X, y)"
   ]
  },
  {
   "cell_type": "code",
   "execution_count": 138,
   "metadata": {},
   "outputs": [
    {
     "data": {
      "image/png": "[encoded data removed]",
      "text/plain": [
       "<Figure size 432x288 with 1 Axes>"
      ]
     },
     "metadata": {
      "needs_background": "light"
     },
     "output_type": "display_data"
    }
   ],
   "source": [
    "x_new = np.linspace(2009, 2025)\n",
    "y_new = model.predict(x_new[:, np.newaxis])\n",
    "plt.scatter(X, y)\n",
    "plt.plot(x_new, y_new)\n",
    "plt.show()"
   ]
  }
 ],
 "metadata": {
  "kernelspec": {
   "display_name": "Python 3",
   "language": "python",
   "name": "python3"
  },
  "language_info": {
   "codemirror_mode": {
    "name": "ipython",
    "version": 3
   },
   "file_extension": ".py",
   "mimetype": "text/x-python",
   "name": "python",
   "nbconvert_exporter": "python",
   "pygments_lexer": "ipython3",
   "version": "3.10.11"
  }
 },
 "nbformat": 4,
 "nbformat_minor": 4
}
